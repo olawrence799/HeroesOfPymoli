{
 "cells": [
  {
   "cell_type": "markdown",
   "metadata": {},
   "source": [
    "# Observed Trends\n",
    "    1) Males make up over 80% of players and contribute over 81% of total revenue.\n",
    "    2) Players at least 40 years old made the fewest purchases, but have the highest normalized total; players age\n",
    "        20-24 contribute over 43% of total revenue.\n",
    "    3) The \"Retribution Axe\" is the item with the most revenue ($37.26) and was purchased 9 times in this sample. "
   ]
  },
  {
   "cell_type": "code",
   "execution_count": 1,
   "metadata": {
    "collapsed": true
   },
   "outputs": [],
   "source": [
    "import pandas as pd\n",
    "import numpy as np"
   ]
  },
  {
   "cell_type": "code",
   "execution_count": 2,
   "metadata": {
    "collapsed": true
   },
   "outputs": [],
   "source": [
    "purchases_df = pd.read_json(\"purchase_data.json\")"
   ]
  },
  {
   "cell_type": "code",
   "execution_count": 3,
   "metadata": {},
   "outputs": [],
   "source": [
    "#len(purchases_df)"
   ]
  },
  {
   "cell_type": "code",
   "execution_count": 4,
   "metadata": {},
   "outputs": [],
   "source": [
    "#purchases_df.head()"
   ]
  },
  {
   "cell_type": "code",
   "execution_count": 5,
   "metadata": {
    "collapsed": true
   },
   "outputs": [],
   "source": [
    "purchases2_df = pd.read_json(\"purchase_data2.json\")"
   ]
  },
  {
   "cell_type": "code",
   "execution_count": 6,
   "metadata": {},
   "outputs": [],
   "source": [
    "#len(purchases2_df)"
   ]
  },
  {
   "cell_type": "code",
   "execution_count": 7,
   "metadata": {},
   "outputs": [],
   "source": [
    "#purchases2_df.head()"
   ]
  },
  {
   "cell_type": "code",
   "execution_count": 8,
   "metadata": {
    "collapsed": true
   },
   "outputs": [],
   "source": [
    "all_purchases = [purchases_df, purchases2_df]\n",
    "#all_purchases"
   ]
  },
  {
   "cell_type": "code",
   "execution_count": 9,
   "metadata": {},
   "outputs": [],
   "source": [
    "all_purchases_df = pd.concat(all_purchases)\n",
    "#all_purchases_df"
   ]
  },
  {
   "cell_type": "markdown",
   "metadata": {},
   "source": [
    "# Player Count"
   ]
  },
  {
   "cell_type": "code",
   "execution_count": 10,
   "metadata": {},
   "outputs": [
    {
     "data": {
      "text/plain": [
       "858"
      ]
     },
     "execution_count": 10,
     "metadata": {},
     "output_type": "execute_result"
    }
   ],
   "source": [
    "total_number_purchases = len(all_purchases_df)\n",
    "total_number_purchases"
   ]
  },
  {
   "cell_type": "code",
   "execution_count": 11,
   "metadata": {},
   "outputs": [
    {
     "data": {
      "text/plain": [
       "612"
      ]
     },
     "execution_count": 11,
     "metadata": {},
     "output_type": "execute_result"
    }
   ],
   "source": [
    "#unique = all_purchases_df[\"SN\"].unique()\n",
    "#len(unique)\n",
    "player_counts = pd.DataFrame(all_purchases_df[\"SN\"].value_counts())\n",
    "len(player_counts)"
   ]
  },
  {
   "cell_type": "code",
   "execution_count": 12,
   "metadata": {},
   "outputs": [
    {
     "data": {
      "text/plain": [
       "619"
      ]
     },
     "execution_count": 12,
     "metadata": {},
     "output_type": "execute_result"
    }
   ],
   "source": [
    "SN_Gender = pd.DataFrame(all_purchases_df[[\"SN\", \"Gender\"]])\n",
    "SN_Gender[\"SN_Gender\"] = SN_Gender[\"SN\"].map(str) + \"_\" + SN_Gender[\"Gender\"]\n",
    "unique_sn_gender = pd.DataFrame(SN_Gender[\"SN_Gender\"].unique(), columns=[\"SN_Gender\"])\n",
    "unique_sn_gender[\"Gender\"] = unique_sn_gender[\"SN_Gender\"].str.split('_').str[1]\n",
    "\n",
    "#total_number_players = len(player_counts)\n",
    "total_number_players = len(unique_sn_gender)\n",
    "total_number_players"
   ]
  },
  {
   "cell_type": "code",
   "execution_count": 13,
   "metadata": {},
   "outputs": [
    {
     "data": {
      "text/html": [
       "<div>\n",
       "<style>\n",
       "    .dataframe thead tr:only-child th {\n",
       "        text-align: right;\n",
       "    }\n",
       "\n",
       "    .dataframe thead th {\n",
       "        text-align: left;\n",
       "    }\n",
       "\n",
       "    .dataframe tbody tr th {\n",
       "        vertical-align: top;\n",
       "    }\n",
       "</style>\n",
       "<table border=\"1\" class=\"dataframe\">\n",
       "  <thead>\n",
       "    <tr style=\"text-align: right;\">\n",
       "      <th></th>\n",
       "      <th>Total Players</th>\n",
       "    </tr>\n",
       "  </thead>\n",
       "  <tbody>\n",
       "    <tr>\n",
       "      <th>0</th>\n",
       "      <td>619</td>\n",
       "    </tr>\n",
       "  </tbody>\n",
       "</table>\n",
       "</div>"
      ],
      "text/plain": [
       "   Total Players\n",
       "0            619"
      ]
     },
     "execution_count": 13,
     "metadata": {},
     "output_type": "execute_result"
    }
   ],
   "source": [
    "total_number_players = pd.DataFrame([total_number_players], columns=[\"Total Players\"])\n",
    "total_number_players"
   ]
  },
  {
   "cell_type": "markdown",
   "metadata": {},
   "source": [
    "# Purchasing Analysis (Total)"
   ]
  },
  {
   "cell_type": "code",
   "execution_count": 14,
   "metadata": {},
   "outputs": [
    {
     "data": {
      "text/plain": [
       "184"
      ]
     },
     "execution_count": 14,
     "metadata": {},
     "output_type": "execute_result"
    }
   ],
   "source": [
    "#unique = all_purchases_df[\"Item ID\"].unique()\n",
    "#len(unique)\n",
    "item_counts = all_purchases_df[\"Item ID\"].value_counts()\n",
    "unique_items_count = len(item_counts)\n",
    "unique_items_count"
   ]
  },
  {
   "cell_type": "code",
   "execution_count": 15,
   "metadata": {},
   "outputs": [
    {
     "data": {
      "text/plain": [
       "'$2514.43'"
      ]
     },
     "execution_count": 15,
     "metadata": {},
     "output_type": "execute_result"
    }
   ],
   "source": [
    "total_revenue = round(all_purchases_df[\"Price\"].sum(), 2)\n",
    "total_revenue_dollars = \"$\"+str(total_revenue)\n",
    "total_revenue_dollars"
   ]
  },
  {
   "cell_type": "code",
   "execution_count": 16,
   "metadata": {},
   "outputs": [
    {
     "data": {
      "text/plain": [
       "'$2.93'"
      ]
     },
     "execution_count": 16,
     "metadata": {},
     "output_type": "execute_result"
    }
   ],
   "source": [
    "avg_purchase_price = round(total_revenue / total_number_purchases, 2)\n",
    "avg_purchase_price_dollars = \"$\"+str(avg_purchase_price)\n",
    "avg_purchase_price_dollars"
   ]
  },
  {
   "cell_type": "code",
   "execution_count": 17,
   "metadata": {},
   "outputs": [
    {
     "data": {
      "text/html": [
       "<div>\n",
       "<style>\n",
       "    .dataframe thead tr:only-child th {\n",
       "        text-align: right;\n",
       "    }\n",
       "\n",
       "    .dataframe thead th {\n",
       "        text-align: left;\n",
       "    }\n",
       "\n",
       "    .dataframe tbody tr th {\n",
       "        vertical-align: top;\n",
       "    }\n",
       "</style>\n",
       "<table border=\"1\" class=\"dataframe\">\n",
       "  <thead>\n",
       "    <tr style=\"text-align: right;\">\n",
       "      <th></th>\n",
       "      <th>Number of Unique Items</th>\n",
       "      <th>Average Price</th>\n",
       "      <th>Number of Purchases</th>\n",
       "      <th>Total Revenue</th>\n",
       "    </tr>\n",
       "  </thead>\n",
       "  <tbody>\n",
       "    <tr>\n",
       "      <th>0</th>\n",
       "      <td>184</td>\n",
       "      <td>$2.93</td>\n",
       "      <td>858</td>\n",
       "      <td>$2514.43</td>\n",
       "    </tr>\n",
       "  </tbody>\n",
       "</table>\n",
       "</div>"
      ],
      "text/plain": [
       "   Number of Unique Items Average Price  Number of Purchases Total Revenue\n",
       "0                     184         $2.93                  858      $2514.43"
      ]
     },
     "execution_count": 17,
     "metadata": {},
     "output_type": "execute_result"
    }
   ],
   "source": [
    "purchasing_analysis_total = pd.DataFrame([unique_items_count], columns=[\"Number of Unique Items\"])\n",
    "purchasing_analysis_total[\"Average Price\"] = avg_purchase_price_dollars\n",
    "purchasing_analysis_total[\"Number of Purchases\"] = total_number_purchases\n",
    "purchasing_analysis_total[\"Total Revenue\"] = total_revenue_dollars\n",
    "purchasing_analysis_total"
   ]
  },
  {
   "cell_type": "markdown",
   "metadata": {
    "collapsed": true
   },
   "source": [
    "# Gender Demographics"
   ]
  },
  {
   "cell_type": "code",
   "execution_count": 18,
   "metadata": {
    "collapsed": true
   },
   "outputs": [],
   "source": [
    "#SN_Gender = pd.DataFrame(all_purchases_df[[\"SN\", \"Gender\"]])\n",
    "#SN_Gender[\"SN_Gender\"] = SN_Gender[\"SN\"].map(str) + \"_\" + SN_Gender[\"Gender\"]\n",
    "#del SN_Gender[\"SN\"]\n",
    "#del SN_Gender[\"Gender\"]\n",
    "#SN_Gender\n",
    "#unique_sn_gender = pd.DataFrame(SN_Gender[\"SN_Gender\"].unique(), columns=[\"SN_Gender\"])\n",
    "#len(unique_sn_gender)\n",
    "#unique_sn_gender[\"Gender\"] = unique_sn_gender[\"SN_Gender\"].str.split('_').str[1]\n",
    "#unique_sn_gender"
   ]
  },
  {
   "cell_type": "code",
   "execution_count": 19,
   "metadata": {
    "collapsed": true
   },
   "outputs": [],
   "source": [
    "gender_count = unique_sn_gender[\"Gender\"].value_counts()\n",
    "gender_count_df = pd.DataFrame({\"Total Count\": gender_count})\n",
    "gender_count_df[\"Gender\"] = unique_sn_gender[\"Gender\"].unique()\n",
    "#gender_count_df"
   ]
  },
  {
   "cell_type": "code",
   "execution_count": 20,
   "metadata": {
    "collapsed": true
   },
   "outputs": [],
   "source": [
    "total_number_players = len(unique_sn_gender)\n",
    "gender_percent = round((gender_count / total_number_players)*100, 2)\n",
    "gender_percent_df = pd.DataFrame({\"Percentage of Players\": gender_percent})\n",
    "gender_percent_df[\"Gender\"] = unique_sn_gender[\"Gender\"].unique()\n",
    "#gender_percent_df"
   ]
  },
  {
   "cell_type": "code",
   "execution_count": 21,
   "metadata": {
    "collapsed": true
   },
   "outputs": [],
   "source": [
    "genders_df = pd.DataFrame(unique_sn_gender[\"Gender\"].unique(), columns=[\"Gender\"])\n",
    "#genders_df"
   ]
  },
  {
   "cell_type": "code",
   "execution_count": 22,
   "metadata": {
    "collapsed": true
   },
   "outputs": [],
   "source": [
    "gender_demographics_df = pd.merge(gender_percent_df, gender_count_df, on='Gender')\n",
    "#gender_demographics_df"
   ]
  },
  {
   "cell_type": "code",
   "execution_count": 23,
   "metadata": {},
   "outputs": [
    {
     "data": {
      "text/html": [
       "<div>\n",
       "<style>\n",
       "    .dataframe thead tr:only-child th {\n",
       "        text-align: right;\n",
       "    }\n",
       "\n",
       "    .dataframe thead th {\n",
       "        text-align: left;\n",
       "    }\n",
       "\n",
       "    .dataframe tbody tr th {\n",
       "        vertical-align: top;\n",
       "    }\n",
       "</style>\n",
       "<table border=\"1\" class=\"dataframe\">\n",
       "  <thead>\n",
       "    <tr style=\"text-align: right;\">\n",
       "      <th></th>\n",
       "      <th>Gender</th>\n",
       "      <th>Percentage of Players</th>\n",
       "      <th>Total Count</th>\n",
       "    </tr>\n",
       "  </thead>\n",
       "  <tbody>\n",
       "    <tr>\n",
       "      <th>0</th>\n",
       "      <td>Male</td>\n",
       "      <td>80.45</td>\n",
       "      <td>498</td>\n",
       "    </tr>\n",
       "    <tr>\n",
       "      <th>1</th>\n",
       "      <td>Female</td>\n",
       "      <td>18.09</td>\n",
       "      <td>112</td>\n",
       "    </tr>\n",
       "    <tr>\n",
       "      <th>2</th>\n",
       "      <td>Other / Non-Disclosed</td>\n",
       "      <td>1.45</td>\n",
       "      <td>9</td>\n",
       "    </tr>\n",
       "  </tbody>\n",
       "</table>\n",
       "</div>"
      ],
      "text/plain": [
       "                  Gender  Percentage of Players  Total Count\n",
       "0                   Male                  80.45          498\n",
       "1                 Female                  18.09          112\n",
       "2  Other / Non-Disclosed                   1.45            9"
      ]
     },
     "execution_count": 23,
     "metadata": {},
     "output_type": "execute_result"
    }
   ],
   "source": [
    "gender_demo_df = pd.merge(genders_df, gender_demographics_df)\n",
    "#gender_demo_df.set_index('Gender', inplace=True)\n",
    "gender_demo_df"
   ]
  },
  {
   "cell_type": "markdown",
   "metadata": {},
   "source": [
    "# Purchasing Analysis (Gender)"
   ]
  },
  {
   "cell_type": "code",
   "execution_count": 24,
   "metadata": {
    "collapsed": true
   },
   "outputs": [],
   "source": [
    "purchase_count_gender = all_purchases_df[\"Gender\"].value_counts()\n",
    "#purchase_count_gender"
   ]
  },
  {
   "cell_type": "code",
   "execution_count": 25,
   "metadata": {
    "collapsed": true
   },
   "outputs": [],
   "source": [
    "revenue_gender = all_purchases_df.groupby('Gender')\n",
    "revenue_gender = revenue_gender[\"Price\"].sum()\n",
    "#revenue_gender"
   ]
  },
  {
   "cell_type": "code",
   "execution_count": 26,
   "metadata": {
    "collapsed": true
   },
   "outputs": [],
   "source": [
    "avg_price_gender = round(revenue_gender / purchase_count_gender, 2)\n",
    "#avg_price_gender"
   ]
  },
  {
   "cell_type": "code",
   "execution_count": 27,
   "metadata": {
    "collapsed": true
   },
   "outputs": [],
   "source": [
    "avg_normprice_gender = round(revenue_gender / gender_count, 2)\n",
    "#avg_normprice_gender"
   ]
  },
  {
   "cell_type": "code",
   "execution_count": 28,
   "metadata": {},
   "outputs": [
    {
     "data": {
      "text/html": [
       "<div>\n",
       "<style>\n",
       "    .dataframe thead tr:only-child th {\n",
       "        text-align: right;\n",
       "    }\n",
       "\n",
       "    .dataframe thead th {\n",
       "        text-align: left;\n",
       "    }\n",
       "\n",
       "    .dataframe tbody tr th {\n",
       "        vertical-align: top;\n",
       "    }\n",
       "</style>\n",
       "<table border=\"1\" class=\"dataframe\">\n",
       "  <thead>\n",
       "    <tr style=\"text-align: right;\">\n",
       "      <th></th>\n",
       "      <th>Purchase Count</th>\n",
       "      <th>Average Purchase Price</th>\n",
       "      <th>Total Purchase Value</th>\n",
       "      <th>Normalized Totals</th>\n",
       "    </tr>\n",
       "  </thead>\n",
       "  <tbody>\n",
       "    <tr>\n",
       "      <th>Male</th>\n",
       "      <td>697</td>\n",
       "      <td>2.94</td>\n",
       "      <td>2052.28</td>\n",
       "      <td>4.12</td>\n",
       "    </tr>\n",
       "    <tr>\n",
       "      <th>Female</th>\n",
       "      <td>149</td>\n",
       "      <td>2.85</td>\n",
       "      <td>424.29</td>\n",
       "      <td>3.79</td>\n",
       "    </tr>\n",
       "    <tr>\n",
       "      <th>Other / Non-Disclosed</th>\n",
       "      <td>12</td>\n",
       "      <td>3.15</td>\n",
       "      <td>37.86</td>\n",
       "      <td>4.21</td>\n",
       "    </tr>\n",
       "  </tbody>\n",
       "</table>\n",
       "</div>"
      ],
      "text/plain": [
       "                       Purchase Count  Average Purchase Price  \\\n",
       "Male                              697                    2.94   \n",
       "Female                            149                    2.85   \n",
       "Other / Non-Disclosed              12                    3.15   \n",
       "\n",
       "                       Total Purchase Value  Normalized Totals  \n",
       "Male                                2052.28               4.12  \n",
       "Female                               424.29               3.79  \n",
       "Other / Non-Disclosed                 37.86               4.21  "
      ]
     },
     "execution_count": 28,
     "metadata": {},
     "output_type": "execute_result"
    }
   ],
   "source": [
    "purchasing_analysis_gender = pd.DataFrame()\n",
    "purchasing_analysis_gender[\"Purchase Count\"] = purchase_count_gender\n",
    "purchasing_analysis_gender[\"Average Purchase Price\"] = avg_price_gender\n",
    "purchasing_analysis_gender[\"Total Purchase Value\"] = revenue_gender\n",
    "purchasing_analysis_gender[\"Normalized Totals\"] = avg_normprice_gender\n",
    "purchasing_analysis_gender"
   ]
  },
  {
   "cell_type": "markdown",
   "metadata": {
    "collapsed": true
   },
   "source": [
    "# Age Demographics"
   ]
  },
  {
   "cell_type": "code",
   "execution_count": 29,
   "metadata": {
    "collapsed": true
   },
   "outputs": [],
   "source": [
    "bins = [0, 10, 15, 20, 25, 30, 35, 40, 400000]\n",
    "group_names = ['<10', '10-14', '15-19', '20-24', '25-29', '30-34', '35-39', '40+']"
   ]
  },
  {
   "cell_type": "code",
   "execution_count": 30,
   "metadata": {
    "collapsed": true
   },
   "outputs": [],
   "source": [
    "all_purchases_df[\"Age_Group\"] = pd.cut(all_purchases_df[\"Age\"], bins, right = False, labels=group_names)\n",
    "#all_purchases_df"
   ]
  },
  {
   "cell_type": "code",
   "execution_count": 31,
   "metadata": {
    "collapsed": true
   },
   "outputs": [],
   "source": [
    "#unique_sn_df = pd.DataFrame(all_purchases_df[\"SN\"].unique(), columns=[\"SN\"])\n",
    "#unique_sn_df = unique_sn_df.join(all_purchases_df[\"Age_Group\"])\n",
    "#unique_sn_df"
   ]
  },
  {
   "cell_type": "code",
   "execution_count": 32,
   "metadata": {
    "collapsed": true
   },
   "outputs": [],
   "source": [
    "SN_Age_Group = pd.DataFrame(all_purchases_df[[\"SN\", \"Age_Group\"]])\n",
    "SN_Age_Group[\"Age_Group\"] = SN_Age_Group[\"Age_Group\"].astype(str)\n",
    "SN_Age_Group[\"SN_Age_Group\"] = SN_Age_Group[\"SN\"].map(str) + \"_\" + SN_Age_Group[\"Age_Group\"]\n",
    "#del SN_Age_Group[\"SN\"]\n",
    "#del SN_Age_Group[\"Age_Group\"]\n",
    "#SN_Age_Group\n",
    "unique_SN_Age_Group = pd.DataFrame(SN_Age_Group[\"SN_Age_Group\"].unique(), columns=[\"SN_Age_Group\"])\n",
    "#len(unique_SN_Age_Group)\n",
    "unique_SN_Age_Group[\"Age_Group\"] = unique_SN_Age_Group[\"SN_Age_Group\"].str.split('_').str[1]\n",
    "#unique_SN_Age_Group"
   ]
  },
  {
   "cell_type": "code",
   "execution_count": 33,
   "metadata": {},
   "outputs": [
    {
     "data": {
      "text/plain": [
       "20-24    283\n",
       "15-19    110\n",
       "25-29     94\n",
       "30-34     53\n",
       "35-39     33\n",
       "10-14     25\n",
       "<10       24\n",
       "40+       12\n",
       "Name: Age_Group, dtype: int64"
      ]
     },
     "execution_count": 33,
     "metadata": {},
     "output_type": "execute_result"
    }
   ],
   "source": [
    "age_count = unique_SN_Age_Group[\"Age_Group\"].value_counts()\n",
    "age_count"
   ]
  },
  {
   "cell_type": "code",
   "execution_count": 34,
   "metadata": {
    "collapsed": true
   },
   "outputs": [],
   "source": [
    "purchase_count_age = all_purchases_df[\"Age_Group\"].value_counts()\n",
    "revenue_age = all_purchases_df.groupby('Age_Group')\n",
    "revenue_age = revenue_age[\"Price\"].sum()\n",
    "avg_price_age = round(revenue_age / purchase_count_age, 2)\n",
    "avg_normprice_age = round(revenue_age / age_count, 2)"
   ]
  },
  {
   "cell_type": "code",
   "execution_count": 35,
   "metadata": {},
   "outputs": [
    {
     "data": {
      "text/html": [
       "<div>\n",
       "<style>\n",
       "    .dataframe thead tr:only-child th {\n",
       "        text-align: right;\n",
       "    }\n",
       "\n",
       "    .dataframe thead th {\n",
       "        text-align: left;\n",
       "    }\n",
       "\n",
       "    .dataframe tbody tr th {\n",
       "        vertical-align: top;\n",
       "    }\n",
       "</style>\n",
       "<table border=\"1\" class=\"dataframe\">\n",
       "  <thead>\n",
       "    <tr style=\"text-align: right;\">\n",
       "      <th></th>\n",
       "      <th>Purchase Count</th>\n",
       "      <th>Average Purchase Price</th>\n",
       "      <th>Total Purchase Value</th>\n",
       "      <th>Normalized Totals</th>\n",
       "    </tr>\n",
       "  </thead>\n",
       "  <tbody>\n",
       "    <tr>\n",
       "      <th>20-24</th>\n",
       "      <td>372</td>\n",
       "      <td>2.92</td>\n",
       "      <td>1087.66</td>\n",
       "      <td>3.84</td>\n",
       "    </tr>\n",
       "    <tr>\n",
       "      <th>15-19</th>\n",
       "      <td>144</td>\n",
       "      <td>2.89</td>\n",
       "      <td>416.83</td>\n",
       "      <td>3.79</td>\n",
       "    </tr>\n",
       "    <tr>\n",
       "      <th>25-29</th>\n",
       "      <td>134</td>\n",
       "      <td>2.96</td>\n",
       "      <td>396.44</td>\n",
       "      <td>4.22</td>\n",
       "    </tr>\n",
       "    <tr>\n",
       "      <th>30-34</th>\n",
       "      <td>71</td>\n",
       "      <td>2.97</td>\n",
       "      <td>211.14</td>\n",
       "      <td>3.98</td>\n",
       "    </tr>\n",
       "    <tr>\n",
       "      <th>35-39</th>\n",
       "      <td>48</td>\n",
       "      <td>2.93</td>\n",
       "      <td>140.77</td>\n",
       "      <td>4.27</td>\n",
       "    </tr>\n",
       "    <tr>\n",
       "      <th>10-14</th>\n",
       "      <td>38</td>\n",
       "      <td>2.79</td>\n",
       "      <td>105.91</td>\n",
       "      <td>4.24</td>\n",
       "    </tr>\n",
       "    <tr>\n",
       "      <th>&lt;10</th>\n",
       "      <td>33</td>\n",
       "      <td>2.95</td>\n",
       "      <td>97.28</td>\n",
       "      <td>4.05</td>\n",
       "    </tr>\n",
       "    <tr>\n",
       "      <th>40+</th>\n",
       "      <td>18</td>\n",
       "      <td>3.24</td>\n",
       "      <td>58.40</td>\n",
       "      <td>4.87</td>\n",
       "    </tr>\n",
       "  </tbody>\n",
       "</table>\n",
       "</div>"
      ],
      "text/plain": [
       "       Purchase Count  Average Purchase Price  Total Purchase Value  \\\n",
       "20-24             372                    2.92               1087.66   \n",
       "15-19             144                    2.89                416.83   \n",
       "25-29             134                    2.96                396.44   \n",
       "30-34              71                    2.97                211.14   \n",
       "35-39              48                    2.93                140.77   \n",
       "10-14              38                    2.79                105.91   \n",
       "<10                33                    2.95                 97.28   \n",
       "40+                18                    3.24                 58.40   \n",
       "\n",
       "       Normalized Totals  \n",
       "20-24               3.84  \n",
       "15-19               3.79  \n",
       "25-29               4.22  \n",
       "30-34               3.98  \n",
       "35-39               4.27  \n",
       "10-14               4.24  \n",
       "<10                 4.05  \n",
       "40+                 4.87  "
      ]
     },
     "execution_count": 35,
     "metadata": {},
     "output_type": "execute_result"
    }
   ],
   "source": [
    "purchasing_analysis_age = pd.DataFrame()\n",
    "purchasing_analysis_age[\"Purchase Count\"] = purchase_count_age\n",
    "purchasing_analysis_age[\"Average Purchase Price\"] = avg_price_age\n",
    "purchasing_analysis_age[\"Total Purchase Value\"] = revenue_age\n",
    "purchasing_analysis_age[\"Normalized Totals\"] = avg_normprice_age\n",
    "purchasing_analysis_age"
   ]
  },
  {
   "cell_type": "markdown",
   "metadata": {},
   "source": [
    "# Top Spenders"
   ]
  },
  {
   "cell_type": "code",
   "execution_count": 36,
   "metadata": {},
   "outputs": [
    {
     "data": {
      "text/html": [
       "<div>\n",
       "<style>\n",
       "    .dataframe thead tr:only-child th {\n",
       "        text-align: right;\n",
       "    }\n",
       "\n",
       "    .dataframe thead th {\n",
       "        text-align: left;\n",
       "    }\n",
       "\n",
       "    .dataframe tbody tr th {\n",
       "        vertical-align: top;\n",
       "    }\n",
       "</style>\n",
       "<table border=\"1\" class=\"dataframe\">\n",
       "  <thead>\n",
       "    <tr style=\"text-align: right;\">\n",
       "      <th></th>\n",
       "      <th>Total Purchase Value</th>\n",
       "    </tr>\n",
       "    <tr>\n",
       "      <th>SN</th>\n",
       "      <th></th>\n",
       "    </tr>\n",
       "  </thead>\n",
       "  <tbody>\n",
       "    <tr>\n",
       "      <th>Undirrala66</th>\n",
       "      <td>17.06</td>\n",
       "    </tr>\n",
       "    <tr>\n",
       "      <th>Aerithllora36</th>\n",
       "      <td>15.10</td>\n",
       "    </tr>\n",
       "    <tr>\n",
       "      <th>Saedue76</th>\n",
       "      <td>13.56</td>\n",
       "    </tr>\n",
       "    <tr>\n",
       "      <th>Sondim43</th>\n",
       "      <td>13.02</td>\n",
       "    </tr>\n",
       "    <tr>\n",
       "      <th>Mindimnya67</th>\n",
       "      <td>12.74</td>\n",
       "    </tr>\n",
       "  </tbody>\n",
       "</table>\n",
       "</div>"
      ],
      "text/plain": [
       "               Total Purchase Value\n",
       "SN                                 \n",
       "Undirrala66                   17.06\n",
       "Aerithllora36                 15.10\n",
       "Saedue76                      13.56\n",
       "Sondim43                      13.02\n",
       "Mindimnya67                   12.74"
      ]
     },
     "execution_count": 36,
     "metadata": {},
     "output_type": "execute_result"
    }
   ],
   "source": [
    "sn_spend = all_purchases_df.groupby('SN')\n",
    "sn_spend = sn_spend[\"Price\"].sum()\n",
    "sn_spend_df = pd.DataFrame(sn_spend)\n",
    "sn_spend_df = sn_spend_df.sort_values(by=\"Price\", ascending=False)\n",
    "sn_spend_df.columns = ['Total Purchase Value']\n",
    "sn_spend_df.head()"
   ]
  },
  {
   "cell_type": "code",
   "execution_count": 37,
   "metadata": {
    "collapsed": true
   },
   "outputs": [],
   "source": [
    "purchase_count_sn = all_purchases_df[\"SN\"].value_counts()\n",
    "revenue_sn = sn_spend_df['Total Purchase Value']\n",
    "avg_price_sn = round(revenue_sn / purchase_count_sn, 2)"
   ]
  },
  {
   "cell_type": "code",
   "execution_count": 38,
   "metadata": {},
   "outputs": [
    {
     "data": {
      "text/html": [
       "<div>\n",
       "<style>\n",
       "    .dataframe thead tr:only-child th {\n",
       "        text-align: right;\n",
       "    }\n",
       "\n",
       "    .dataframe thead th {\n",
       "        text-align: left;\n",
       "    }\n",
       "\n",
       "    .dataframe tbody tr th {\n",
       "        vertical-align: top;\n",
       "    }\n",
       "</style>\n",
       "<table border=\"1\" class=\"dataframe\">\n",
       "  <thead>\n",
       "    <tr style=\"text-align: right;\">\n",
       "      <th></th>\n",
       "      <th>Purchase Count</th>\n",
       "      <th>Average Purchase Price</th>\n",
       "      <th>Total Purchase Value</th>\n",
       "    </tr>\n",
       "  </thead>\n",
       "  <tbody>\n",
       "    <tr>\n",
       "      <th>Undirrala66</th>\n",
       "      <td>5</td>\n",
       "      <td>3.41</td>\n",
       "      <td>17.06</td>\n",
       "    </tr>\n",
       "    <tr>\n",
       "      <th>Aerithllora36</th>\n",
       "      <td>4</td>\n",
       "      <td>3.78</td>\n",
       "      <td>15.10</td>\n",
       "    </tr>\n",
       "    <tr>\n",
       "      <th>Saedue76</th>\n",
       "      <td>4</td>\n",
       "      <td>3.39</td>\n",
       "      <td>13.56</td>\n",
       "    </tr>\n",
       "    <tr>\n",
       "      <th>Sondim43</th>\n",
       "      <td>4</td>\n",
       "      <td>3.26</td>\n",
       "      <td>13.02</td>\n",
       "    </tr>\n",
       "    <tr>\n",
       "      <th>Mindimnya67</th>\n",
       "      <td>4</td>\n",
       "      <td>3.18</td>\n",
       "      <td>12.74</td>\n",
       "    </tr>\n",
       "  </tbody>\n",
       "</table>\n",
       "</div>"
      ],
      "text/plain": [
       "               Purchase Count  Average Purchase Price  Total Purchase Value\n",
       "Undirrala66                 5                    3.41                 17.06\n",
       "Aerithllora36               4                    3.78                 15.10\n",
       "Saedue76                    4                    3.39                 13.56\n",
       "Sondim43                    4                    3.26                 13.02\n",
       "Mindimnya67                 4                    3.18                 12.74"
      ]
     },
     "execution_count": 38,
     "metadata": {},
     "output_type": "execute_result"
    }
   ],
   "source": [
    "sn_value_df = pd.DataFrame()\n",
    "sn_value_df['Purchase Count'] = purchase_count_sn\n",
    "sn_value_df['Average Purchase Price'] = avg_price_sn\n",
    "sn_value_df['Total Purchase Value'] = sn_spend_df['Total Purchase Value']\n",
    "sn_value_df = sn_value_df.sort_values(by=\"Total Purchase Value\", ascending=False)\n",
    "sn_value_df.head()"
   ]
  },
  {
   "cell_type": "markdown",
   "metadata": {},
   "source": [
    "# Most Popular Items"
   ]
  },
  {
   "cell_type": "code",
   "execution_count": 39,
   "metadata": {},
   "outputs": [
    {
     "data": {
      "text/html": [
       "<div>\n",
       "<style>\n",
       "    .dataframe thead tr:only-child th {\n",
       "        text-align: right;\n",
       "    }\n",
       "\n",
       "    .dataframe thead th {\n",
       "        text-align: left;\n",
       "    }\n",
       "\n",
       "    .dataframe tbody tr th {\n",
       "        vertical-align: top;\n",
       "    }\n",
       "</style>\n",
       "<table border=\"1\" class=\"dataframe\">\n",
       "  <thead>\n",
       "    <tr style=\"text-align: right;\">\n",
       "      <th></th>\n",
       "      <th>Item Name Count</th>\n",
       "    </tr>\n",
       "  </thead>\n",
       "  <tbody>\n",
       "    <tr>\n",
       "      <th>Final Critic</th>\n",
       "      <td>14</td>\n",
       "    </tr>\n",
       "    <tr>\n",
       "      <th>Arcane Gem</th>\n",
       "      <td>12</td>\n",
       "    </tr>\n",
       "    <tr>\n",
       "      <th>Stormcaller</th>\n",
       "      <td>12</td>\n",
       "    </tr>\n",
       "    <tr>\n",
       "      <th>Betrayal, Whisper of Grieving Widows</th>\n",
       "      <td>11</td>\n",
       "    </tr>\n",
       "    <tr>\n",
       "      <th>Crucifer</th>\n",
       "      <td>10</td>\n",
       "    </tr>\n",
       "    <tr>\n",
       "      <th>Trickster</th>\n",
       "      <td>10</td>\n",
       "    </tr>\n",
       "    <tr>\n",
       "      <th>Retribution Axe</th>\n",
       "      <td>9</td>\n",
       "    </tr>\n",
       "    <tr>\n",
       "      <th>Extraction, Quickblade Of Trembling Hands</th>\n",
       "      <td>9</td>\n",
       "    </tr>\n",
       "    <tr>\n",
       "      <th>Feral Katana</th>\n",
       "      <td>9</td>\n",
       "    </tr>\n",
       "    <tr>\n",
       "      <th>Woeful Adamantite Claymore</th>\n",
       "      <td>9</td>\n",
       "    </tr>\n",
       "  </tbody>\n",
       "</table>\n",
       "</div>"
      ],
      "text/plain": [
       "                                           Item Name Count\n",
       "Final Critic                                            14\n",
       "Arcane Gem                                              12\n",
       "Stormcaller                                             12\n",
       "Betrayal, Whisper of Grieving Widows                    11\n",
       "Crucifer                                                10\n",
       "Trickster                                               10\n",
       "Retribution Axe                                          9\n",
       "Extraction, Quickblade Of Trembling Hands                9\n",
       "Feral Katana                                             9\n",
       "Woeful Adamantite Claymore                               9"
      ]
     },
     "execution_count": 39,
     "metadata": {},
     "output_type": "execute_result"
    }
   ],
   "source": [
    "items = pd.DataFrame()\n",
    "items[\"Item Name Count\"] = all_purchases_df[\"Item Name\"].value_counts()\n",
    "items.head(10)"
   ]
  },
  {
   "cell_type": "code",
   "execution_count": 40,
   "metadata": {},
   "outputs": [
    {
     "data": {
      "text/html": [
       "<div>\n",
       "<style>\n",
       "    .dataframe thead tr:only-child th {\n",
       "        text-align: right;\n",
       "    }\n",
       "\n",
       "    .dataframe thead th {\n",
       "        text-align: left;\n",
       "    }\n",
       "\n",
       "    .dataframe tbody tr th {\n",
       "        vertical-align: top;\n",
       "    }\n",
       "</style>\n",
       "<table border=\"1\" class=\"dataframe\">\n",
       "  <thead>\n",
       "    <tr style=\"text-align: right;\">\n",
       "      <th></th>\n",
       "      <th>Item ID Count</th>\n",
       "    </tr>\n",
       "  </thead>\n",
       "  <tbody>\n",
       "    <tr>\n",
       "      <th>84</th>\n",
       "      <td>12</td>\n",
       "    </tr>\n",
       "    <tr>\n",
       "      <th>39</th>\n",
       "      <td>11</td>\n",
       "    </tr>\n",
       "    <tr>\n",
       "      <th>31</th>\n",
       "      <td>10</td>\n",
       "    </tr>\n",
       "    <tr>\n",
       "      <th>34</th>\n",
       "      <td>9</td>\n",
       "    </tr>\n",
       "    <tr>\n",
       "      <th>44</th>\n",
       "      <td>9</td>\n",
       "    </tr>\n",
       "    <tr>\n",
       "      <th>13</th>\n",
       "      <td>9</td>\n",
       "    </tr>\n",
       "    <tr>\n",
       "      <th>107</th>\n",
       "      <td>9</td>\n",
       "    </tr>\n",
       "    <tr>\n",
       "      <th>175</th>\n",
       "      <td>9</td>\n",
       "    </tr>\n",
       "    <tr>\n",
       "      <th>108</th>\n",
       "      <td>9</td>\n",
       "    </tr>\n",
       "    <tr>\n",
       "      <th>154</th>\n",
       "      <td>9</td>\n",
       "    </tr>\n",
       "  </tbody>\n",
       "</table>\n",
       "</div>"
      ],
      "text/plain": [
       "     Item ID Count\n",
       "84              12\n",
       "39              11\n",
       "31              10\n",
       "34               9\n",
       "44               9\n",
       "13               9\n",
       "107              9\n",
       "175              9\n",
       "108              9\n",
       "154              9"
      ]
     },
     "execution_count": 40,
     "metadata": {},
     "output_type": "execute_result"
    }
   ],
   "source": [
    "item_IDs = pd.DataFrame()\n",
    "item_IDs['Item ID Count'] = all_purchases_df['Item ID'].value_counts()\n",
    "#item_IDs = item_IDs.sort_values(by='Item ID Count', ascending=False)\n",
    "item_IDs.head(10)"
   ]
  },
  {
   "cell_type": "code",
   "execution_count": 41,
   "metadata": {},
   "outputs": [
    {
     "data": {
      "text/html": [
       "<div>\n",
       "<style>\n",
       "    .dataframe thead tr:only-child th {\n",
       "        text-align: right;\n",
       "    }\n",
       "\n",
       "    .dataframe thead th {\n",
       "        text-align: left;\n",
       "    }\n",
       "\n",
       "    .dataframe tbody tr th {\n",
       "        vertical-align: top;\n",
       "    }\n",
       "</style>\n",
       "<table border=\"1\" class=\"dataframe\">\n",
       "  <thead>\n",
       "    <tr style=\"text-align: right;\">\n",
       "      <th></th>\n",
       "      <th></th>\n",
       "      <th>Item Price</th>\n",
       "      <th>Purchase Count</th>\n",
       "      <th>Total Purchase Value</th>\n",
       "    </tr>\n",
       "    <tr>\n",
       "      <th>Item ID</th>\n",
       "      <th>Item Name</th>\n",
       "      <th></th>\n",
       "      <th></th>\n",
       "      <th></th>\n",
       "    </tr>\n",
       "  </thead>\n",
       "  <tbody>\n",
       "    <tr>\n",
       "      <th>84</th>\n",
       "      <th>Arcane Gem</th>\n",
       "      <td>2.445</td>\n",
       "      <td>12</td>\n",
       "      <td>29.34</td>\n",
       "    </tr>\n",
       "    <tr>\n",
       "      <th>39</th>\n",
       "      <th>Betrayal, Whisper of Grieving Widows</th>\n",
       "      <td>2.350</td>\n",
       "      <td>11</td>\n",
       "      <td>25.85</td>\n",
       "    </tr>\n",
       "    <tr>\n",
       "      <th>31</th>\n",
       "      <th>Trickster</th>\n",
       "      <td>2.322</td>\n",
       "      <td>10</td>\n",
       "      <td>23.22</td>\n",
       "    </tr>\n",
       "    <tr>\n",
       "      <th>13</th>\n",
       "      <th>Serenity</th>\n",
       "      <td>1.490</td>\n",
       "      <td>9</td>\n",
       "      <td>13.41</td>\n",
       "    </tr>\n",
       "    <tr>\n",
       "      <th>34</th>\n",
       "      <th>Retribution Axe</th>\n",
       "      <td>4.140</td>\n",
       "      <td>9</td>\n",
       "      <td>37.26</td>\n",
       "    </tr>\n",
       "  </tbody>\n",
       "</table>\n",
       "</div>"
      ],
      "text/plain": [
       "                                              Item Price  Purchase Count  \\\n",
       "Item ID Item Name                                                          \n",
       "84      Arcane Gem                                 2.445              12   \n",
       "39      Betrayal, Whisper of Grieving Widows       2.350              11   \n",
       "31      Trickster                                  2.322              10   \n",
       "13      Serenity                                   1.490               9   \n",
       "34      Retribution Axe                            4.140               9   \n",
       "\n",
       "                                              Total Purchase Value  \n",
       "Item ID Item Name                                                   \n",
       "84      Arcane Gem                                           29.34  \n",
       "39      Betrayal, Whisper of Grieving Widows                 25.85  \n",
       "31      Trickster                                            23.22  \n",
       "13      Serenity                                             13.41  \n",
       "34      Retribution Axe                                      37.26  "
      ]
     },
     "execution_count": 41,
     "metadata": {},
     "output_type": "execute_result"
    }
   ],
   "source": [
    "pop_items = all_purchases_df.groupby([\"Item ID\", \"Item Name\"]).agg({'Price': ['mean', 'count', 'sum']}).rename(columns={'mean': 'Item Price', 'count': 'Purchase Count', 'sum': 'Total Purchase Value'})\n",
    "pop_items.columns = pop_items.columns.droplevel()\n",
    "pop_items = pop_items.nlargest(5, 'Purchase Count')\n",
    "pop_items"
   ]
  },
  {
   "cell_type": "markdown",
   "metadata": {},
   "source": [
    "# Most Profitable Items"
   ]
  },
  {
   "cell_type": "code",
   "execution_count": 42,
   "metadata": {},
   "outputs": [
    {
     "data": {
      "text/html": [
       "<div>\n",
       "<style>\n",
       "    .dataframe thead tr:only-child th {\n",
       "        text-align: right;\n",
       "    }\n",
       "\n",
       "    .dataframe thead th {\n",
       "        text-align: left;\n",
       "    }\n",
       "\n",
       "    .dataframe tbody tr th {\n",
       "        vertical-align: top;\n",
       "    }\n",
       "</style>\n",
       "<table border=\"1\" class=\"dataframe\">\n",
       "  <thead>\n",
       "    <tr style=\"text-align: right;\">\n",
       "      <th></th>\n",
       "      <th></th>\n",
       "      <th>Item Price</th>\n",
       "      <th>Purchase Count</th>\n",
       "      <th>Total Purchase Value</th>\n",
       "    </tr>\n",
       "    <tr>\n",
       "      <th>Item ID</th>\n",
       "      <th>Item Name</th>\n",
       "      <th></th>\n",
       "      <th></th>\n",
       "      <th></th>\n",
       "    </tr>\n",
       "  </thead>\n",
       "  <tbody>\n",
       "    <tr>\n",
       "      <th>34</th>\n",
       "      <th>Retribution Axe</th>\n",
       "      <td>4.140</td>\n",
       "      <td>9</td>\n",
       "      <td>37.26</td>\n",
       "    </tr>\n",
       "    <tr>\n",
       "      <th>107</th>\n",
       "      <th>Splitter, Foe Of Subtlety</th>\n",
       "      <td>3.670</td>\n",
       "      <td>9</td>\n",
       "      <td>33.03</td>\n",
       "    </tr>\n",
       "    <tr>\n",
       "      <th>115</th>\n",
       "      <th>Spectral Diamond Doomblade</th>\n",
       "      <td>4.250</td>\n",
       "      <td>7</td>\n",
       "      <td>29.75</td>\n",
       "    </tr>\n",
       "    <tr>\n",
       "      <th>32</th>\n",
       "      <th>Orenmir</th>\n",
       "      <td>4.950</td>\n",
       "      <td>6</td>\n",
       "      <td>29.70</td>\n",
       "    </tr>\n",
       "    <tr>\n",
       "      <th>84</th>\n",
       "      <th>Arcane Gem</th>\n",
       "      <td>2.445</td>\n",
       "      <td>12</td>\n",
       "      <td>29.34</td>\n",
       "    </tr>\n",
       "  </tbody>\n",
       "</table>\n",
       "</div>"
      ],
      "text/plain": [
       "                                    Item Price  Purchase Count  \\\n",
       "Item ID Item Name                                                \n",
       "34      Retribution Axe                  4.140               9   \n",
       "107     Splitter, Foe Of Subtlety        3.670               9   \n",
       "115     Spectral Diamond Doomblade       4.250               7   \n",
       "32      Orenmir                          4.950               6   \n",
       "84      Arcane Gem                       2.445              12   \n",
       "\n",
       "                                    Total Purchase Value  \n",
       "Item ID Item Name                                         \n",
       "34      Retribution Axe                            37.26  \n",
       "107     Splitter, Foe Of Subtlety                  33.03  \n",
       "115     Spectral Diamond Doomblade                 29.75  \n",
       "32      Orenmir                                    29.70  \n",
       "84      Arcane Gem                                 29.34  "
      ]
     },
     "execution_count": 42,
     "metadata": {},
     "output_type": "execute_result"
    }
   ],
   "source": [
    "profit_items = all_purchases_df.groupby([\"Item ID\", \"Item Name\"]).agg({'Price': ['mean', 'count', 'sum']}).rename(columns={'mean': 'Item Price', 'count': 'Purchase Count', 'sum': 'Total Purchase Value'})\n",
    "profit_items.columns = profit_items.columns.droplevel()\n",
    "profit_items = profit_items.nlargest(5, 'Total Purchase Value')\n",
    "profit_items"
   ]
  },
  {
   "cell_type": "code",
   "execution_count": null,
   "metadata": {
    "collapsed": true
   },
   "outputs": [],
   "source": []
  }
 ],
 "metadata": {
  "kernelspec": {
   "display_name": "Python 3",
   "language": "python",
   "name": "python3"
  },
  "language_info": {
   "codemirror_mode": {
    "name": "ipython",
    "version": 3
   },
   "file_extension": ".py",
   "mimetype": "text/x-python",
   "name": "python",
   "nbconvert_exporter": "python",
   "pygments_lexer": "ipython3",
   "version": "3.6.1"
  }
 },
 "nbformat": 4,
 "nbformat_minor": 2
}
